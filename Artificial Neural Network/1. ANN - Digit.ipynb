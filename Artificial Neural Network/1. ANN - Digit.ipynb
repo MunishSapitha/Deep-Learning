{
 "cells": [
  {
   "cell_type": "code",
   "execution_count": null,
   "id": "0bf514de",
   "metadata": {},
   "outputs": [],
   "source": [
    "# Basic Libraries\n",
    "import numpy as np\n",
    "import pandas as pd\n",
    "\n",
    "# Visualization libraries\n",
    "import matplotlib.pyplot as plt\n",
    "import pydot\n",
    "import seaborn as sns\n",
    "\n",
    "#Evaluation library\n",
    "from sklearn.metrics import confusion_matrix\n",
    "from sklearn.metrics import accuracy_score\n",
    "from sklearn.model_selection import GridSearchCV\n",
    "\n",
    "# Deep Learning libraries\n",
    "import tensorflow as tf\n",
    "from tensorflow.keras import layers\n",
    "import keras\n",
    "from keras.models import Sequential\n",
    "from keras.layers.core import Dense,Activation,Dropout\n",
    "from keras.datasets import mnist\n",
    "from keras.utils.np_utils import to_categorical\n",
    "from keras.wrappers.scikit_learn import KerasClassifier"
   ]
  },
  {
   "cell_type": "code",
   "execution_count": null,
   "id": "90a62b18",
   "metadata": {},
   "outputs": [],
   "source": [
    "# Install pydot \n",
    "\n",
    "# ! pip install pydot"
   ]
  },
  {
   "cell_type": "code",
   "execution_count": null,
   "id": "bac521c1",
   "metadata": {},
   "outputs": [],
   "source": [
    "# Install Tensorflow\n",
    "\n",
    "# ! pip install tensorflow"
   ]
  },
  {
   "cell_type": "code",
   "execution_count": null,
   "id": "b08643b2",
   "metadata": {},
   "outputs": [],
   "source": [
    "#Load Digit MNIST dataset\n",
    "# tuple () - tuples are immutable (unchangeable)\n",
    "# Returns Tuple of NumPy arrays: (x_train, y_train), (x_test, y_test).\n",
    "\n",
    "(X_train_digit, y_train_digit), (X_test_digit, y_test_digit) = mnist.load_data()"
   ]
  },
  {
   "cell_type": "code",
   "execution_count": null,
   "id": "11ca18b9",
   "metadata": {},
   "outputs": [],
   "source": [
    "X_train_digit"
   ]
  },
  {
   "cell_type": "code",
   "execution_count": null,
   "id": "b4a497f5",
   "metadata": {},
   "outputs": [],
   "source": [
    "y_train_digit"
   ]
  },
  {
   "cell_type": "code",
   "execution_count": null,
   "id": "eb3f7915",
   "metadata": {},
   "outputs": [],
   "source": [
    "#Names of numbers in the dataset in order\n",
    "col_names = ['Zero','One','Two','Three','Four','Five','Six','Seven','Eight','Nine']\n",
    "\n",
    "#Visualizing the digits\n",
    "plt.figure(figsize=(10,10))\n",
    "for i in range(15):\n",
    "    plt.subplot(5,5,i+1)  # Three integers (nrows, ncols, index)\n",
    "    plt.xticks([])        # Ticks are the markers denoting data points on axes.\n",
    "    plt.yticks([])        # Passing an empty list removes all xticks and yticks.\n",
    "    plt.imshow(X_train_digit[i], cmap='gray') # imshow - Display data as an image, cmap - colour maps\n",
    "    plt.xlabel(col_names[y_train_digit[i]])\n",
    "plt.show()"
   ]
  },
  {
   "cell_type": "markdown",
   "id": "47c04009",
   "metadata": {},
   "source": [
    "# Input - Preprocess - ANN - 3D to 2D"
   ]
  },
  {
   "cell_type": "code",
   "execution_count": null,
   "id": "b04c018e",
   "metadata": {},
   "outputs": [],
   "source": [
    "# shape - number of rows * number of columns\n",
    "\n",
    "X_train_digit.shape\n"
   ]
  },
  {
   "cell_type": "code",
   "execution_count": null,
   "id": "ffda3593",
   "metadata": {},
   "outputs": [],
   "source": [
    "# o/p - 60000,28,28 \n",
    "\n",
    "# (count,rows,columns)\n",
    "# Total - 100000 entries\n",
    "# Testing data count - 60000\n",
    "# Training data count - 40000\n",
    "# Output 3D\n",
    "# ANN input dimension supports 2D\n",
    "# so reshape() 3D into 2D\n",
    "# 28*28 - 784\n",
    "# 2D - 60000,784\n",
    "# Flatten - rows and columns 28*28 flattening "
   ]
  },
  {
   "cell_type": "code",
   "execution_count": null,
   "id": "7262c7ec",
   "metadata": {},
   "outputs": [],
   "source": [
    "X_train_digit = X_train_digit.reshape(60000, 784)\n",
    "X_test_digit = X_test_digit.reshape(10000, 784)"
   ]
  },
  {
   "cell_type": "code",
   "execution_count": null,
   "id": "c662c141",
   "metadata": {},
   "outputs": [],
   "source": [
    "X_train_digit.shape"
   ]
  },
  {
   "cell_type": "code",
   "execution_count": null,
   "id": "dea7d074",
   "metadata": {},
   "outputs": [],
   "source": [
    "# o/p - (60000,784)"
   ]
  },
  {
   "cell_type": "markdown",
   "id": "c2598d2c",
   "metadata": {},
   "source": [
    "# Output - Preprocess - ANN - One Hot Encoding"
   ]
  },
  {
   "cell_type": "code",
   "execution_count": null,
   "id": "3132937d",
   "metadata": {},
   "outputs": [],
   "source": [
    "y_test_digit.shape\n",
    "\n",
    "# output -(10000,)"
   ]
  },
  {
   "cell_type": "code",
   "execution_count": null,
   "id": "fb08743c",
   "metadata": {},
   "outputs": [],
   "source": [
    "#Encoding Digit MNIST Labels\n",
    "\n",
    "y_train_digit = to_categorical(y_train_digit, num_classes=10)\n",
    "\n",
    "y_test_digit = to_categorical(y_test_digit, num_classes=10)"
   ]
  },
  {
   "cell_type": "code",
   "execution_count": null,
   "id": "ac93d12d",
   "metadata": {},
   "outputs": [],
   "source": [
    "# Output -Preprocess\n",
    "# ANN -  One hot Encoding\n",
    "# num_classes =10 (0,1,2,3,4,5,6,7,8,9) for digit dataset\n",
    "# eg : num_classes=2 for dog and class dataset\n",
    "\n",
    "# to_categorical() - Converts a class vector (integers) to binary class matrix (0 and 1)\n"
   ]
  },
  {
   "cell_type": "code",
   "execution_count": null,
   "id": "c70c7f65",
   "metadata": {},
   "outputs": [],
   "source": [
    "y_train_digit[1]\n",
    "\n",
    "# o/p - array([1., 0., 0., 0., 0., 0., 0., 0., 0., 0.], dtype=float32) \n",
    "# the above output digit is 0"
   ]
  },
  {
   "cell_type": "markdown",
   "id": "94a597cd",
   "metadata": {},
   "source": [
    "# ANN - Sequential"
   ]
  },
  {
   "cell_type": "code",
   "execution_count": null,
   "id": "972297f7",
   "metadata": {},
   "outputs": [],
   "source": [
    "#Creating base neural network\n",
    "model = keras.Sequential([\n",
    "    layers.Dense(256, activation='relu', input_shape=(784,)),   # Input Layer 784 neurons - 256 hidden layer\n",
    "    #layers.Dropout(0.3),\n",
    "    #layers.BatchNormalization(),\n",
    "    layers.Dense(64, activation='relu'),                        # 256 Hidden Layer - 64 Hidden layer\n",
    "    #layers.Dropout(0.3),\n",
    "    #layers.BatchNormalization(),\n",
    "    layers.Dense(64, activation='relu'),                        # 64 Hidden Layer - 64 Hidden Layer \n",
    "    #layers.Dropout(0.3),\n",
    "    #layers.BatchNormalization(),\n",
    "    layers.Dense(10,activation='sigmoid'),                     # Output Layer - 10\n",
    "])\n",
    "\n",
    "\n",
    "# Dropout is implemented by randomly selecting nodes to be dropped out \n",
    "# with a given probability (e.g., 20%) in each weight update cycle."
   ]
  },
  {
   "cell_type": "markdown",
   "id": "adafb130",
   "metadata": {},
   "source": [
    "# Dense Layer"
   ]
  },
  {
   "cell_type": "code",
   "execution_count": null,
   "id": "a7e8a69a",
   "metadata": {},
   "outputs": [],
   "source": [
    "# Dense Layer\n",
    "#param_number = output_channel_number * (input_channel_number + 1)\n",
    "\n",
    "model.summary()"
   ]
  },
  {
   "cell_type": "code",
   "execution_count": null,
   "id": "db88d282",
   "metadata": {},
   "outputs": [],
   "source": [
    "Model: \"sequential\"\n",
    "_________________________________________________________________\n",
    " Layer (type)                Output Shape              Param #   \n",
    "=================================================================\n",
    " dense (Dense)               (None, 256)               200960    # 256*(784+1)\n",
    "                                                                 \n",
    " dense_1 (Dense)             (None, 64)                16448     # 64*(256+1)\n",
    "                                                                 \n",
    " dense_2 (Dense)             (None, 64)                4160      # 64*(64+1)\n",
    "                                                                 \n",
    " dense_3 (Dense)             (None, 10)                650       # 10*(64+1)\n",
    "                                                                 \n",
    "=================================================================\n",
    "Total params: 222,218\n",
    "Trainable params: 222,218\n",
    "Non-trainable params: 0"
   ]
  },
  {
   "cell_type": "markdown",
   "id": "9730e0b2",
   "metadata": {},
   "source": [
    "# Model Compilation"
   ]
  },
  {
   "cell_type": "code",
   "execution_count": null,
   "id": "550aa0b1",
   "metadata": {},
   "outputs": [],
   "source": [
    "#Compiling the model\n",
    "model.compile(loss=\"categorical_crossentropy\",\n",
    "              optimizer=\"adam\",\n",
    "              metrics = ['accuracy'])"
   ]
  },
  {
   "cell_type": "markdown",
   "id": "8e7490d5",
   "metadata": {},
   "source": [
    "# Model Creation"
   ]
  },
  {
   "cell_type": "code",
   "execution_count": null,
   "id": "b0d76794",
   "metadata": {},
   "outputs": [],
   "source": [
    "# Learning/Training the model\n",
    "\n",
    "history=model.fit(X_train_digit, y_train_digit, batch_size=100, epochs=10,validation_data=(X_test_digit, y_test_digit))"
   ]
  },
  {
   "cell_type": "markdown",
   "id": "b67da0c5",
   "metadata": {},
   "source": [
    "# Predict test data"
   ]
  },
  {
   "cell_type": "code",
   "execution_count": null,
   "id": "9d5587d2",
   "metadata": {},
   "outputs": [],
   "source": [
    "#Predicting the labels-DIGIT\n",
    "# Predict test data\n",
    "\n",
    "y_predict = model.predict(X_test_digit)"
   ]
  },
  {
   "cell_type": "code",
   "execution_count": null,
   "id": "aa024309",
   "metadata": {},
   "outputs": [],
   "source": [
    "y_predict"
   ]
  },
  {
   "cell_type": "code",
   "execution_count": null,
   "id": "a138617d",
   "metadata": {},
   "outputs": [],
   "source": [
    "y_predict[0]"
   ]
  },
  {
   "cell_type": "code",
   "execution_count": null,
   "id": "64488dda",
   "metadata": {},
   "outputs": [],
   "source": [
    "# Output\n",
    "# array([1.19154155e-02, 2.38031149e-04, 9.39500093e-01, 9.81485844e-01,\n",
    "       1.17501616e-03, 9.98406172e-01, 3.05942849e-09, 1.00000000e+00,\n",
    "       9.98855948e-01, 9.98955905e-01], dtype=float32)"
   ]
  },
  {
   "cell_type": "code",
   "execution_count": null,
   "id": "13ed918d",
   "metadata": {},
   "outputs": [],
   "source": [
    "# y_predict - Predicted test data\n",
    "\n",
    "y_predicts=np.argmax(y_predict, axis=1) # Here we get the index of maximum value in the encoded vector\n",
    "y_predicts"
   ]
  },
  {
   "cell_type": "code",
   "execution_count": null,
   "id": "6cce57dd",
   "metadata": {},
   "outputs": [],
   "source": [
    "# output -array([7, 2, 1, ..., 4, 5, 5], dtype=int64)"
   ]
  },
  {
   "cell_type": "markdown",
   "id": "efe087e7",
   "metadata": {},
   "source": [
    "# Actual Test data"
   ]
  },
  {
   "cell_type": "code",
   "execution_count": null,
   "id": "9501788b",
   "metadata": {},
   "outputs": [],
   "source": [
    "# y_test_digit_eval - actual test data\n",
    "\n",
    "y_test_digit_eval=np.argmax(y_test_digit, axis=1)\n",
    "y_test_digit_eval"
   ]
  },
  {
   "cell_type": "code",
   "execution_count": null,
   "id": "6a5dddc5",
   "metadata": {},
   "outputs": [],
   "source": [
    "# output - array([7, 2, 1, ..., 4, 5, 6], dtype=int64)"
   ]
  },
  {
   "cell_type": "markdown",
   "id": "0aa341a4",
   "metadata": {},
   "source": [
    "# Supervised Learning\n",
    "# Classification\n",
    "# Confusion Matrix - (Actual Test data, Predicted Test data)"
   ]
  },
  {
   "cell_type": "code",
   "execution_count": null,
   "id": "ffbd43a7",
   "metadata": {},
   "outputs": [],
   "source": [
    "#Confusion matrix for Digit MNIST\n",
    "con_mat=confusion_matrix(y_test_digit_eval,y_predicts)\n",
    "plt.style.use('seaborn-deep')\n",
    "plt.figure(figsize=(10,10))\n",
    "sns.heatmap(con_mat,annot=True,annot_kws={'size': 15},linewidths=0.5,fmt=\"d\",cmap=\"gray\")\n",
    "plt.title('True or False predicted digit MNIST\\n',fontweight='bold',fontsize=15)\n",
    "plt.show()"
   ]
  },
  {
   "cell_type": "markdown",
   "id": "ee14bca3",
   "metadata": {},
   "source": [
    "# Classification Report"
   ]
  },
  {
   "cell_type": "code",
   "execution_count": null,
   "id": "6925c657",
   "metadata": {},
   "outputs": [],
   "source": [
    "from sklearn.metrics import classification_report\n",
    "\n",
    "print(classification_report(y_test_digit_eval,y_predicts))"
   ]
  },
  {
   "cell_type": "markdown",
   "id": "18986bcc",
   "metadata": {},
   "source": [
    "# Accuracy Graph - Epoch\n",
    "# Low to High "
   ]
  },
  {
   "cell_type": "code",
   "execution_count": null,
   "id": "848a4181",
   "metadata": {},
   "outputs": [],
   "source": [
    "# summarize history for accuracy\n",
    "plt.plot(history.history['accuracy'])\n",
    "plt.plot(history.history['val_accuracy'])\n",
    "plt.title('model accuracy')\n",
    "plt.ylabel('accuracy')\n",
    "plt.xlabel('epoch')\n",
    "plt.legend(['train', 'test'], loc='best')\n",
    "plt.show()\n"
   ]
  },
  {
   "cell_type": "markdown",
   "id": "aabbb1cc",
   "metadata": {},
   "source": [
    "# Loss Graph - Epoch\n",
    "# High to Low"
   ]
  },
  {
   "cell_type": "code",
   "execution_count": null,
   "id": "2c3d801e",
   "metadata": {},
   "outputs": [],
   "source": [
    "plt.plot(history.history['loss'])\n",
    "plt.plot(history.history['val_loss'])\n",
    "plt.title('model loss')\n",
    "plt.ylabel('loss')\n",
    "plt.xlabel('epoch')\n",
    "plt.legend(['train', 'test'], loc='best')\n",
    "plt.show()"
   ]
  },
  {
   "cell_type": "code",
   "execution_count": null,
   "id": "3a4dbe0a",
   "metadata": {},
   "outputs": [],
   "source": []
  },
  {
   "cell_type": "code",
   "execution_count": null,
   "id": "74b5dc49",
   "metadata": {},
   "outputs": [],
   "source": [
    "#tf.expand_dims(X_test_digit[0])\n",
    "y_predict_single = model.predict(X_test_digit[[2]])\n",
    "y_predicts_single=np.argmax(y_predict_single, axis=1) # Here we get the index of maximum value in the encoded vector\n",
    "y_test_digit_eval=np.argmax(y_test_digit, axis=1)"
   ]
  },
  {
   "cell_type": "code",
   "execution_count": null,
   "id": "a98e2dc4",
   "metadata": {},
   "outputs": [],
   "source": [
    "#Names of numbers in the dataset in order\n",
    "col_names = ['Zero','One','Two','Three','Four','Five','Six','Seven','Eight','Nine']\n",
    "\n",
    "#Visualizing the digits\n",
    "#plt.figure(figsize=(10,10))\n",
    "plt.imshow(X_test_digit[2].reshape(28,28), cmap='gray')\n",
    "plt.xlabel(\"Actual:{},Pred:{}\".format(col_names[np.argmax(y_test_digit[2])],col_names[y_predicts_single[0]]))\n",
    "plt.show()"
   ]
  }
 ],
 "metadata": {
  "kernelspec": {
   "display_name": "Python 3 (ipykernel)",
   "language": "python",
   "name": "python3"
  },
  "language_info": {
   "codemirror_mode": {
    "name": "ipython",
    "version": 3
   },
   "file_extension": ".py",
   "mimetype": "text/x-python",
   "name": "python",
   "nbconvert_exporter": "python",
   "pygments_lexer": "ipython3",
   "version": "3.11.5"
  }
 },
 "nbformat": 4,
 "nbformat_minor": 5
}
